{
 "cells": [
  {
   "cell_type": "markdown",
   "metadata": {
    "collapsed": true
   },
   "source": [
    "# La Batalla de los Vecindarios  | Propuesta de Negocio"
   ]
  },
  {
   "cell_type": "markdown",
   "metadata": {},
   "source": [
    "## Introducción:\n",
    "\n",
    "Este proyecto tiene como finalidad ayudar a la gente a encontrar mejores lugares para visitar en su vecindario u otros en Scarborough, Toronto (Canadá).\n",
    "\n",
    "Muchas personas están migrando a varios estados de Canada y necesitan investigar varios factores, como el precio de los bienes o presencia de buenos colegios para sus hijos. Este proyecto los ayuda a escoger los mejores vecindarios en base a la disponibilidad de negocios y servicios de calidad; ya sean públicos o privados.\n",
    "\n",
    "El resultado final será de utilidad para una persona que quiera mudarse a Scarborough, ya que tendrá una idea clara de cuales son los mejores vecindarios.\n",
    "\n",
    "\n",
    "## Problema a resolver:\n",
    "\n",
    "El problema es que no se conoce cuales son los mejores vecindarios para una persona que quiera mudarse a Scarborough. Puede tener diferentes criterios como cercanía a transporte público, supermercados, hospitales, colegios, precios de casas, etc. \n",
    "\n",
    "\n",
    "## El lugar:\n",
    "\n",
    "Scarborough es un destino popular para inmigrantes de primera generación a Canadá. Por ello, es uno de los lugares mas diversos y multiculturales de Toronto. A pesar de presión política para la reducción de la inmigración al país, la población inmigrante de Scarborough ha seguido aumentando en los últimos años.\n",
    "\n",
    "\n",
    "## Foursquare API:\n",
    "\n",
    "Este proyecto utiliza el API de Foursquare como su fuente principal de datos. Tiene información de millones de lugares y permite hacer búsquedas de lugares, negocios locales y localización.\n",
    "\n",
    "## Flujo de Trabajo:\n",
    "\n",
    "Los lugares de los vecindarios de Scarborough serán minados desde el API de Foursquare. \n",
    "\n",
    "\n",
    "## Método de clustering:\n",
    "\n",
    "Para comparar dos ciudades, se decidió explorar vecindarios, segmentarlos y agruparlos en clusters para encontrar similitudes en una ciudad grande como New York o Toronto. Para lograrlo, se agruparon los datos mediante un método de aprendizaje automático no-supervisado: K-Means clustering algorithm"
   ]
  },
  {
   "cell_type": "code",
   "execution_count": null,
   "metadata": {},
   "outputs": [],
   "source": []
  }
 ],
 "metadata": {
  "kernelspec": {
   "display_name": "Python 3.9",
   "language": "python",
   "name": "python3"
  },
  "language_info": {
   "codemirror_mode": {
    "name": "ipython",
    "version": 3
   },
   "file_extension": ".py",
   "mimetype": "text/x-python",
   "name": "python",
   "nbconvert_exporter": "python",
   "pygments_lexer": "ipython3",
   "version": "3.9.12"
  }
 },
 "nbformat": 4,
 "nbformat_minor": 1
}
