{
 "cells": [
  {
   "cell_type": "markdown",
   "metadata": {
    "collapsed": true
   },
   "source": [
    "# La Batalla de los Vecindarios | Descripción de Datos"
   ]
  },
  {
   "cell_type": "markdown",
   "metadata": {},
   "source": [
    "## Descripción de Datos:\n",
    "\n",
    "Enlace: https://en.wikipedia.org/wiki/List_of_postal_codes_of_Canada:_M \n",
    "\n",
    "Se utilizará la base de datos de códigos postales de Scarborough en Wikipedia. La base tiene datos de latitud, longitud y códigos postales.\n",
    "\n",
    "\n",
    "## Data de Foursquare API :\n",
    "\n",
    "Se necesitarán datos de diferentes lugares en diferentes vecindarios de cada zona postal. \n",
    "Está se obtendrá de Foursquare. Incluye datos como nombre del lugar, direcciones, menus, reseñas, etc. No se utilizarán datos adicionales.\n",
    "\n",
    "Luego de obtener la lista de vecindarios, se conectará al API de Foursquare para obtener información sobre lugares dentro de cada vecindarios. \n",
    "Para el proyecto, se ha considerado que cada vecindario tiene un radio de 100 metros.\n",
    "\n",
    "La data obtenida de Foursquare contiene información de lugares dentro de una distancia especificada de la longitud y latitud de los códigos postales. La información por luhar incluye:\n",
    "\n",
    "    1. Vecindario\n",
    "    2. Latitud de Vecindario\n",
    "    3. Longitud de Vecindario\n",
    "    4. Lugar\n",
    "    5. Nombre del lugar (tienda o restaurante)\n",
    "    6. Latitud del lugar\n",
    "    7. Longitud del lugar\n",
    "    8. Categoría del lugar"
   ]
  },
  {
   "cell_type": "code",
   "execution_count": null,
   "metadata": {},
   "outputs": [],
   "source": []
  }
 ],
 "metadata": {
  "kernelspec": {
   "display_name": "Python 3.9",
   "language": "python",
   "name": "python3"
  },
  "language_info": {
   "codemirror_mode": {
    "name": "ipython",
    "version": 3
   },
   "file_extension": ".py",
   "mimetype": "text/x-python",
   "name": "python",
   "nbconvert_exporter": "python",
   "pygments_lexer": "ipython3",
   "version": "3.9.12"
  }
 },
 "nbformat": 4,
 "nbformat_minor": 1
}
